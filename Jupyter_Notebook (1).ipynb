{
 "cells": [
  {
   "cell_type": "markdown",
   "metadata": {},
   "source": [
    "# Data Science Basics Notebook\n",
    "\n",
    "## Introduction\n",
    "\n",
    "This notebook is an introduction to Data Science, covering languages, libraries, tools, and basic arithmetic operations. It also includes examples and exercises for practicing some fundamental concepts in data science.\n",
    "\n",
    "## Data Science Languages\n",
    "\n",
    "- Python\n",
    "- R\n",
    "- SQL\n",
    "- Java\n",
    "- Scala\n",
    "- Julia\n",
    "\n",
    "## Data Science Libraries\n",
    "\n",
    "- NumPy\n",
    "- Pandas\n",
    "- Matplotlib\n",
    "- Scikit-learn\n",
    "- TensorFlow\n",
    "- Keras\n",
    "\n",
    "## Data Science Tools\n",
    "\n",
    "| Tool           | Purpose                          |\n",
    "|----------------|----------------------------------|\n",
    "| Jupyter        | Interactive computing environment |\n",
    "| GitHub         | Version control and collaboration |\n",
    "| RStudio        | IDE for R programming             |\n",
    "| Anaconda       | Python distribution for data science |\n",
    "| Tableau        | Data visualization tool          |\n",
    "\n",
    "## Arithmetic Expression Examples\n",
    "\n",
    "In this section, we will explore basic arithmetic expressions such as addition, multiplication, and division.\n",
    "\n",
    "### Code for Arithmetic Expression:\n",
    "\n",
    "```python\n",
    "# Example of basic arithmetic operations\n",
    "addition = 10 + 5\n",
    "multiplication = 10 * 5\n",
    "print(\"Addition Result:\", addition)\n",
    "print(\"Multiplication Result:\", multiplication)\n"
   ]
  },
  {
   "cell_type": "markdown",
   "metadata": {},
   "source": [
    "#### Code for Converting Minutes to Hours:"
   ]
  },
  {
   "cell_type": "code",
   "execution_count": 2,
   "metadata": {},
   "outputs": [
    {
     "name": "stdout",
     "output_type": "stream",
     "text": [
      "120 minutes is equal to 2.0 hours.\n"
     ]
    }
   ],
   "source": [
    "# Function to convert minutes to hours\n",
    "def minutes_to_hours(minutes):\n",
    "    hours = minutes / 60\n",
    "    return hours\n",
    "\n",
    "# Example usage\n",
    "minutes = 120\n",
    "hours = minutes_to_hours(minutes)\n",
    "print(f\"{minutes} minutes is equal to {hours} hours.\")\n"
   ]
  },
  {
   "cell_type": "markdown",
   "metadata": {},
   "source": [
    "##### Objectives\n",
    "Learn basic Data Science languages.\n",
    "Explore popular Data Science libraries.\n",
    "Understand the use of Data Science tools.\n",
    "Practice basic arithmetic operations in Python.\n",
    "##### Author\n",
    "Author: Hugo Espinoza"
   ]
  },
  {
   "cell_type": "code",
   "execution_count": null,
   "metadata": {},
   "outputs": [],
   "source": []
  }
 ],
 "metadata": {
  "kernelspec": {
   "display_name": "Python 3 (ipykernel)",
   "language": "python",
   "name": "python3"
  },
  "language_info": {
   "codemirror_mode": {
    "name": "ipython",
    "version": 3
   },
   "file_extension": ".py",
   "mimetype": "text/x-python",
   "name": "python",
   "nbconvert_exporter": "python",
   "pygments_lexer": "ipython3",
   "version": "3.12.8"
  }
 },
 "nbformat": 4,
 "nbformat_minor": 4
}
